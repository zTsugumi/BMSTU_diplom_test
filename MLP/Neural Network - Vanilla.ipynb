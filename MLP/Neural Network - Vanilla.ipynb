{
 "cells": [
  {
   "cell_type": "markdown",
   "id": "warming-contamination",
   "metadata": {},
   "source": [
    "# Neural network - Simple\n",
    "A module to implement the stochastic gradient descent learning algorithm for a feedforward neural network.  Gradients are calculated using backpropagation.  Note that I have focused on making the code simple, easily readable, and easily modifiable.  It is not optimized, and omits many desirable features.\n",
    "## Feed forward\n",
    "\n",
    "## Backpropagation"
   ]
  },
  {
   "cell_type": "code",
   "execution_count": 1,
   "id": "clean-module",
   "metadata": {},
   "outputs": [],
   "source": [
    "import random\n",
    "import numpy as np\n",
    "import tensorflow as tf"
   ]
  },
  {
   "cell_type": "code",
   "execution_count": 2,
   "id": "criminal-istanbul",
   "metadata": {},
   "outputs": [],
   "source": [
    "def vectorize(y):\n",
    "    res = np.zeros((10, 1))\n",
    "    res[y] = 1.0\n",
    "    return res\n",
    "\n",
    "mnist = tf.keras.datasets.mnist\n",
    "(x_train, y_train), (x_test, y_test) = mnist.load_data()\n",
    "x_train, x_test = x_train / 255.0, x_test / 255.0\n",
    "\n",
    "x_train = [np.reshape(x, (784, 1)) for x in x_train]\n",
    "y_train = [vectorize(y) for y in y_train]\n",
    "data_train = list(zip(x_train, y_train))\n",
    "\n",
    "x_test = [np.reshape(x, (784, 1)) for x in x_test]\n",
    "data_test = list(zip(x_test, y_test))"
   ]
  },
  {
   "cell_type": "code",
   "execution_count": 3,
   "id": "available-seeking",
   "metadata": {},
   "outputs": [],
   "source": [
    "def sigmoid(z):\n",
    "    \"\"\"Sigmoid function\"\"\"\n",
    "    return 1.0 / (1.0 + np.exp(-z))\n",
    "\n",
    "def sigmoid_prime(z):\n",
    "    \"\"\"Derivative of sigmoid function\"\"\"\n",
    "    return sigmoid(z) * (1 - sigmoid(z))"
   ]
  },
  {
   "cell_type": "code",
   "execution_count": 6,
   "id": "compound-spirituality",
   "metadata": {},
   "outputs": [],
   "source": [
    "class Network(object):\n",
    "    def __init__(self, shape):\n",
    "        \"\"\"\n",
    "        @shape: shape of the network, ex: [3, 2, 1]\n",
    "        @n: number of layers\n",
    "        @B: list of biases\n",
    "        @W: list of weights\n",
    "        \"\"\"\n",
    "        self.shape = shape\n",
    "        self.n = len(shape)        \n",
    "        self.B = [np.random.randn(y, 1) for y in shape[1:]]\n",
    "        self.W = [np.random.randn(y, x) for x, y in zip(shape[:-1], shape[1:])]\n",
    "    \n",
    "    def feedforward(self, a):\n",
    "        \"\"\"\n",
    "        Return the output of the network if @a is input\n",
    "        \"\"\"\n",
    "        for w, b in zip(self.W, self.B):\n",
    "            a = sigmoid(np.dot(w, a) + b)\n",
    "        \n",
    "        return a\n",
    "    \n",
    "    def backprop(self, x, y):\n",
    "        \"\"\"\n",
    "        Return a tuple (delta_W, delta_B) representing the gradient\n",
    "        for the cost function C_x\n",
    "        \"\"\"\n",
    "        delta_W = [np.zeros(w.shape) for w in self.W]\n",
    "        delta_B = [np.zeros(b.shape) for b in self.B]\n",
    "        \n",
    "        # Feed forward\n",
    "        a = x\n",
    "        a_lst = [x]\n",
    "        z_lst = []        \n",
    "        for w, b in zip(self.W, self.B):\n",
    "            z = np.dot(w, a) + b\n",
    "            z_lst.append(z)\n",
    "            a = sigmoid(z)\n",
    "            a_lst.append(a)\n",
    "         \n",
    "        # Backward pass - Quadratic cost\n",
    "        delta = (a_lst[-1] - y) * sigmoid_prime(z_lst[-1])\n",
    "        delta_W[-1] = np.dot(delta, a_lst[-2].transpose())\n",
    "        delta_B[-1] = delta\n",
    "        \n",
    "        for l in range(2, self.n):\n",
    "            z = z_lst[-l]\n",
    "            sp = sigmoid_prime(z)\n",
    "            delta = np.dot(self.W[-l+1].transpose(), delta) * sp\n",
    "            delta_W[-l] = np.dot(delta, a_lst[-l-1].transpose())\n",
    "            delta_B[-l] = delta            \n",
    "    \n",
    "        return (delta_W, delta_B)\n",
    "    \n",
    "    def update(self, batch, eta):\n",
    "        \"\"\"\n",
    "        Update network's weights and biases:\n",
    "            1. Loop through each (x, y) ~ 1 example in the batch:\n",
    "                1.1. Do 1 backprop\n",
    "                1.2. Accumulate @delta_W and @delta_B\n",
    "            2. Apply the update to network weights and biases\n",
    "        \"\"\"\n",
    "        delta_W_sum = [np.zeros(w.shape) for w in self.W]\n",
    "        delta_B_sum = [np.zeros(b.shape) for b in self.B]\n",
    "        \n",
    "        for x, y in batch:\n",
    "            delta_W, delta_B = self.backprop(x, y)\n",
    "            delta_W_sum = [dw + dws for dw, dws in zip(delta_W, delta_W_sum)]\n",
    "            delta_B_sum = [db + dbs for db, dbs in zip(delta_B, delta_B_sum)]\n",
    "\n",
    "        n_batch = len(batch)\n",
    "        self.W = [w - eta * dws / n_batch\n",
    "                 for w, dws in zip(self.W, delta_W_sum)]\n",
    "        self.B = [b - eta * dbs / n_batch\n",
    "                 for b, dbs in zip(self.B, delta_B_sum)]\n",
    "        \n",
    "    def SGD(self, data_train, epochs, batch_size, eta, data_test=None):\n",
    "        \"\"\"\n",
    "        Stochastic gradient descent: \n",
    "            1. Loop through each epoch:\n",
    "                1.1. Randomly shuffle the @data_train, \n",
    "                    then partitions it into batches. \n",
    "                1.2. Loop through each batch to apply a single\n",
    "                    step of gradient descent to update the \n",
    "                    network weights and biases.\n",
    "        \"\"\"                 \n",
    "        n = len(data_train)\n",
    "        \n",
    "        for i in range(epochs):\n",
    "            random.shuffle(data_train)\n",
    "            batches = [\n",
    "                data_train[k: k+batch_size]\n",
    "                for k in range(0, n, batch_size)]\n",
    "            \n",
    "            for batch in batches:\n",
    "                self.update(batch, eta)\n",
    "            \n",
    "            if data_test:\n",
    "                print(f'Epoch {i}: {self.evaluate(data_test)} / {len(data_test)}')\n",
    "            else:\n",
    "                print(f\"Epoch {i} completed\")\n",
    "     \n",
    "    def evaluate(self, data_test):\n",
    "        test_results = [(np.argmax(self.feedforward(x)), y)\n",
    "                       for (x, y) in data_test]\n",
    "        return sum(int(x == y) for (x, y) in test_results)        "
   ]
  },
  {
   "cell_type": "code",
   "execution_count": 8,
   "id": "minimal-argentina",
   "metadata": {},
   "outputs": [
    {
     "name": "stdout",
     "output_type": "stream",
     "text": [
      "Epoch 0: 8219 / 10000\n"
     ]
    },
    {
     "ename": "KeyboardInterrupt",
     "evalue": "",
     "output_type": "error",
     "traceback": [
      "\u001b[1;31m---------------------------------------------------------------------------\u001b[0m",
      "\u001b[1;31mKeyboardInterrupt\u001b[0m                         Traceback (most recent call last)",
      "\u001b[1;32m<ipython-input-8-9cb1ad644d88>\u001b[0m in \u001b[0;36m<module>\u001b[1;34m\u001b[0m\n\u001b[0;32m      1\u001b[0m \u001b[0mnet\u001b[0m \u001b[1;33m=\u001b[0m \u001b[0mNetwork\u001b[0m\u001b[1;33m(\u001b[0m\u001b[1;33m[\u001b[0m\u001b[1;36m784\u001b[0m\u001b[1;33m,\u001b[0m \u001b[1;36m30\u001b[0m\u001b[1;33m,\u001b[0m \u001b[1;36m10\u001b[0m\u001b[1;33m]\u001b[0m\u001b[1;33m)\u001b[0m\u001b[1;33m\u001b[0m\u001b[1;33m\u001b[0m\u001b[0m\n\u001b[1;32m----> 2\u001b[1;33m \u001b[0mnet\u001b[0m\u001b[1;33m.\u001b[0m\u001b[0mSGD\u001b[0m\u001b[1;33m(\u001b[0m\u001b[0mdata_train\u001b[0m\u001b[1;33m,\u001b[0m \u001b[1;36m30\u001b[0m\u001b[1;33m,\u001b[0m \u001b[1;36m10\u001b[0m\u001b[1;33m,\u001b[0m \u001b[1;36m3.0\u001b[0m\u001b[1;33m,\u001b[0m \u001b[0mdata_test\u001b[0m\u001b[1;33m=\u001b[0m\u001b[0mdata_test\u001b[0m\u001b[1;33m)\u001b[0m\u001b[1;33m\u001b[0m\u001b[1;33m\u001b[0m\u001b[0m\n\u001b[0m",
      "\u001b[1;32m<ipython-input-6-135e7eabb7d3>\u001b[0m in \u001b[0;36mSGD\u001b[1;34m(self, data_train, epochs, batch_size, eta, data_test)\u001b[0m\n\u001b[0;32m     97\u001b[0m \u001b[1;33m\u001b[0m\u001b[0m\n\u001b[0;32m     98\u001b[0m             \u001b[1;32mif\u001b[0m \u001b[0mdata_test\u001b[0m\u001b[1;33m:\u001b[0m\u001b[1;33m\u001b[0m\u001b[1;33m\u001b[0m\u001b[0m\n\u001b[1;32m---> 99\u001b[1;33m                 \u001b[0mprint\u001b[0m\u001b[1;33m(\u001b[0m\u001b[1;34mf'Epoch {i}: {self.evaluate(data_test)} / {len(data_test)}'\u001b[0m\u001b[1;33m)\u001b[0m\u001b[1;33m\u001b[0m\u001b[1;33m\u001b[0m\u001b[0m\n\u001b[0m\u001b[0;32m    100\u001b[0m             \u001b[1;32melse\u001b[0m\u001b[1;33m:\u001b[0m\u001b[1;33m\u001b[0m\u001b[1;33m\u001b[0m\u001b[0m\n\u001b[0;32m    101\u001b[0m                 \u001b[0mprint\u001b[0m\u001b[1;33m(\u001b[0m\u001b[1;34mf\"Epoch {i} completed\"\u001b[0m\u001b[1;33m)\u001b[0m\u001b[1;33m\u001b[0m\u001b[1;33m\u001b[0m\u001b[0m\n",
      "\u001b[1;32m<ipython-input-6-135e7eabb7d3>\u001b[0m in \u001b[0;36mevaluate\u001b[1;34m(self, data_test)\u001b[0m\n\u001b[0;32m    102\u001b[0m \u001b[1;33m\u001b[0m\u001b[0m\n\u001b[0;32m    103\u001b[0m     \u001b[1;32mdef\u001b[0m \u001b[0mevaluate\u001b[0m\u001b[1;33m(\u001b[0m\u001b[0mself\u001b[0m\u001b[1;33m,\u001b[0m \u001b[0mdata_test\u001b[0m\u001b[1;33m)\u001b[0m\u001b[1;33m:\u001b[0m\u001b[1;33m\u001b[0m\u001b[1;33m\u001b[0m\u001b[0m\n\u001b[1;32m--> 104\u001b[1;33m         test_results = [(np.argmax(self.feedforward(x)), y)\n\u001b[0m\u001b[0;32m    105\u001b[0m                        for (x, y) in data_test]\n\u001b[0;32m    106\u001b[0m         \u001b[1;32mreturn\u001b[0m \u001b[0msum\u001b[0m\u001b[1;33m(\u001b[0m\u001b[0mint\u001b[0m\u001b[1;33m(\u001b[0m\u001b[0mx\u001b[0m \u001b[1;33m==\u001b[0m \u001b[0my\u001b[0m\u001b[1;33m)\u001b[0m \u001b[1;32mfor\u001b[0m \u001b[1;33m(\u001b[0m\u001b[0mx\u001b[0m\u001b[1;33m,\u001b[0m \u001b[0my\u001b[0m\u001b[1;33m)\u001b[0m \u001b[1;32min\u001b[0m \u001b[0mtest_results\u001b[0m\u001b[1;33m)\u001b[0m\u001b[1;33m\u001b[0m\u001b[1;33m\u001b[0m\u001b[0m\n",
      "\u001b[1;32m<ipython-input-6-135e7eabb7d3>\u001b[0m in \u001b[0;36m<listcomp>\u001b[1;34m(.0)\u001b[0m\n\u001b[0;32m    102\u001b[0m \u001b[1;33m\u001b[0m\u001b[0m\n\u001b[0;32m    103\u001b[0m     \u001b[1;32mdef\u001b[0m \u001b[0mevaluate\u001b[0m\u001b[1;33m(\u001b[0m\u001b[0mself\u001b[0m\u001b[1;33m,\u001b[0m \u001b[0mdata_test\u001b[0m\u001b[1;33m)\u001b[0m\u001b[1;33m:\u001b[0m\u001b[1;33m\u001b[0m\u001b[1;33m\u001b[0m\u001b[0m\n\u001b[1;32m--> 104\u001b[1;33m         test_results = [(np.argmax(self.feedforward(x)), y)\n\u001b[0m\u001b[0;32m    105\u001b[0m                        for (x, y) in data_test]\n\u001b[0;32m    106\u001b[0m         \u001b[1;32mreturn\u001b[0m \u001b[0msum\u001b[0m\u001b[1;33m(\u001b[0m\u001b[0mint\u001b[0m\u001b[1;33m(\u001b[0m\u001b[0mx\u001b[0m \u001b[1;33m==\u001b[0m \u001b[0my\u001b[0m\u001b[1;33m)\u001b[0m \u001b[1;32mfor\u001b[0m \u001b[1;33m(\u001b[0m\u001b[0mx\u001b[0m\u001b[1;33m,\u001b[0m \u001b[0my\u001b[0m\u001b[1;33m)\u001b[0m \u001b[1;32min\u001b[0m \u001b[0mtest_results\u001b[0m\u001b[1;33m)\u001b[0m\u001b[1;33m\u001b[0m\u001b[1;33m\u001b[0m\u001b[0m\n",
      "\u001b[1;32m<ipython-input-6-135e7eabb7d3>\u001b[0m in \u001b[0;36mfeedforward\u001b[1;34m(self, a)\u001b[0m\n\u001b[0;32m     17\u001b[0m         \"\"\"\n\u001b[0;32m     18\u001b[0m         \u001b[1;32mfor\u001b[0m \u001b[0mw\u001b[0m\u001b[1;33m,\u001b[0m \u001b[0mb\u001b[0m \u001b[1;32min\u001b[0m \u001b[0mzip\u001b[0m\u001b[1;33m(\u001b[0m\u001b[0mself\u001b[0m\u001b[1;33m.\u001b[0m\u001b[0mW\u001b[0m\u001b[1;33m,\u001b[0m \u001b[0mself\u001b[0m\u001b[1;33m.\u001b[0m\u001b[0mB\u001b[0m\u001b[1;33m)\u001b[0m\u001b[1;33m:\u001b[0m\u001b[1;33m\u001b[0m\u001b[1;33m\u001b[0m\u001b[0m\n\u001b[1;32m---> 19\u001b[1;33m             \u001b[0ma\u001b[0m \u001b[1;33m=\u001b[0m \u001b[0msigmoid\u001b[0m\u001b[1;33m(\u001b[0m\u001b[0mnp\u001b[0m\u001b[1;33m.\u001b[0m\u001b[0mdot\u001b[0m\u001b[1;33m(\u001b[0m\u001b[0mw\u001b[0m\u001b[1;33m,\u001b[0m \u001b[0ma\u001b[0m\u001b[1;33m)\u001b[0m \u001b[1;33m+\u001b[0m \u001b[0mb\u001b[0m\u001b[1;33m)\u001b[0m\u001b[1;33m\u001b[0m\u001b[1;33m\u001b[0m\u001b[0m\n\u001b[0m\u001b[0;32m     20\u001b[0m \u001b[1;33m\u001b[0m\u001b[0m\n\u001b[0;32m     21\u001b[0m         \u001b[1;32mreturn\u001b[0m \u001b[0ma\u001b[0m\u001b[1;33m\u001b[0m\u001b[1;33m\u001b[0m\u001b[0m\n",
      "\u001b[1;32m<__array_function__ internals>\u001b[0m in \u001b[0;36mdot\u001b[1;34m(*args, **kwargs)\u001b[0m\n",
      "\u001b[1;31mKeyboardInterrupt\u001b[0m: "
     ]
    }
   ],
   "source": [
    "net = Network([784, 30, 10])\n",
    "net.SGD(data_train, 30, 10, 3.0, data_test=data_test)"
   ]
  },
  {
   "cell_type": "code",
   "execution_count": null,
   "id": "informative-bradley",
   "metadata": {},
   "outputs": [],
   "source": []
  }
 ],
 "metadata": {
  "kernelspec": {
   "display_name": "Python 3.8 (tensorflow)",
   "language": "python",
   "name": "py38_tensorflow"
  },
  "language_info": {
   "codemirror_mode": {
    "name": "ipython",
    "version": 3
   },
   "file_extension": ".py",
   "mimetype": "text/x-python",
   "name": "python",
   "nbconvert_exporter": "python",
   "pygments_lexer": "ipython3",
   "version": "3.8.5"
  }
 },
 "nbformat": 4,
 "nbformat_minor": 5
}